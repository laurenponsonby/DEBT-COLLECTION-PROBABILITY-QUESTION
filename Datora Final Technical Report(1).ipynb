{
 "cells": [
  {
   "cell_type": "markdown",
   "metadata": {
    "slideshow": {
     "slide_type": "slide"
    }
   },
   "source": [
    "# Question: Based on demographics, what activity or combination of activity results in the highest probability of a Promise to Pay (PTP)"
   ]
  },
  {
   "cell_type": "code",
   "execution_count": 9,
   "metadata": {
    "slideshow": {
     "slide_type": "subslide"
    }
   },
   "outputs": [],
   "source": [
    "import pandas as pd\n",
    "from collections import Counter\n",
    "import datetime\n",
    "%matplotlib inline"
   ]
  },
  {
   "cell_type": "code",
   "execution_count": 27,
   "metadata": {
    "slideshow": {
     "slide_type": "fragment"
    }
   },
   "outputs": [],
   "source": [
    "df = pd.read_csv('lessmessyresults.csv')\n",
    "df.drop('d_debtoridentityno', axis=1 , inplace=True)"
   ]
  },
  {
   "cell_type": "markdown",
   "metadata": {
    "slideshow": {
     "slide_type": "fragment"
    }
   },
   "source": [
    "- Based on a population sample from the historical Data table, I have filtered out the Data that only pertains to ABSA and data where a debtor has Promised To Pay\n",
    "\n",
    "- Out of this filtered Data I calculate the probabilty of a PTP following the action of either a Phone Call or SMS"
   ]
  },
  {
   "cell_type": "code",
   "execution_count": 28,
   "metadata": {
    "slideshow": {
     "slide_type": "fragment"
    }
   },
   "outputs": [],
   "source": [
    "#len(dr[dr['HistoryAction_ID'] ==8])\n",
    "#dr = dr[dr.line_race != 8]\n",
    "#dr.query('line_race != 8')\n",
    "dr = df[df.HistoryAction_ID != 8]\n"
   ]
  },
  {
   "cell_type": "markdown",
   "metadata": {},
   "source": [
    "## Identity Numbers were dropped from the code to protect the clients information"
   ]
  },
  {
   "cell_type": "code",
   "execution_count": 29,
   "metadata": {
    "scrolled": true,
    "slideshow": {
     "slide_type": "subslide"
    }
   },
   "outputs": [
    {
     "data": {
      "text/html": [
       "<div>\n",
       "<style scoped>\n",
       "    .dataframe tbody tr th:only-of-type {\n",
       "        vertical-align: middle;\n",
       "    }\n",
       "\n",
       "    .dataframe tbody tr th {\n",
       "        vertical-align: top;\n",
       "    }\n",
       "\n",
       "    .dataframe thead th {\n",
       "        text-align: right;\n",
       "    }\n",
       "</style>\n",
       "<table border=\"1\" class=\"dataframe\">\n",
       "  <thead>\n",
       "    <tr style=\"text-align: right;\">\n",
       "      <th></th>\n",
       "      <th>IDX</th>\n",
       "      <th>CurrentBalance</th>\n",
       "      <th>DateArrangementMade</th>\n",
       "      <th>DateAp_Desc</th>\n",
       "      <th>Opening Balance</th>\n",
       "      <th>FirstInstalmentDueDate</th>\n",
       "      <th>FirstInstalmentDueDateAP_Running</th>\n",
       "      <th>HistoryAction_ID</th>\n",
       "      <th>H_DateTime</th>\n",
       "    </tr>\n",
       "  </thead>\n",
       "  <tbody>\n",
       "    <tr>\n",
       "      <th>0</th>\n",
       "      <td>316191</td>\n",
       "      <td>36716.00</td>\n",
       "      <td>8/10/2017</td>\n",
       "      <td>Balance brought forward</td>\n",
       "      <td>36816.00</td>\n",
       "      <td>8/15/2017</td>\n",
       "      <td>36716.00</td>\n",
       "      <td>10</td>\n",
       "      <td>4/26/2017</td>\n",
       "    </tr>\n",
       "    <tr>\n",
       "      <th>1</th>\n",
       "      <td>609722</td>\n",
       "      <td>7704.53</td>\n",
       "      <td>8/11/2017</td>\n",
       "      <td>Balance brought forward</td>\n",
       "      <td>7704.53</td>\n",
       "      <td>8/31/2017</td>\n",
       "      <td>6849.90</td>\n",
       "      <td>10</td>\n",
       "      <td>4/24/2017</td>\n",
       "    </tr>\n",
       "    <tr>\n",
       "      <th>2</th>\n",
       "      <td>609770</td>\n",
       "      <td>3712.48</td>\n",
       "      <td>2/20/2018</td>\n",
       "      <td>Balance brought forward</td>\n",
       "      <td>4211.48</td>\n",
       "      <td>2/28/2018</td>\n",
       "      <td>3713.12</td>\n",
       "      <td>20</td>\n",
       "      <td>4/26/2017</td>\n",
       "    </tr>\n",
       "    <tr>\n",
       "      <th>3</th>\n",
       "      <td>605313</td>\n",
       "      <td>27930.50</td>\n",
       "      <td>4/3/2018</td>\n",
       "      <td>Balance brought forward</td>\n",
       "      <td>27930.50</td>\n",
       "      <td>4/30/2018</td>\n",
       "      <td>23430.50</td>\n",
       "      <td>20</td>\n",
       "      <td>4/26/2017</td>\n",
       "    </tr>\n",
       "    <tr>\n",
       "      <th>4</th>\n",
       "      <td>608773</td>\n",
       "      <td>5482.85</td>\n",
       "      <td>1/12/2018</td>\n",
       "      <td>Balance brought forward</td>\n",
       "      <td>7110.61</td>\n",
       "      <td>1/27/2018</td>\n",
       "      <td>6610.61</td>\n",
       "      <td>10</td>\n",
       "      <td>4/28/2017</td>\n",
       "    </tr>\n",
       "    <tr>\n",
       "      <th>5</th>\n",
       "      <td>608889</td>\n",
       "      <td>10842.05</td>\n",
       "      <td>3/15/2018</td>\n",
       "      <td>Balance brought forward</td>\n",
       "      <td>10842.05</td>\n",
       "      <td>4/14/2018</td>\n",
       "      <td>8739.15</td>\n",
       "      <td>6</td>\n",
       "      <td>4/21/2017</td>\n",
       "    </tr>\n",
       "    <tr>\n",
       "      <th>6</th>\n",
       "      <td>609142</td>\n",
       "      <td>1702.18</td>\n",
       "      <td>NaN</td>\n",
       "      <td>NaN</td>\n",
       "      <td>NaN</td>\n",
       "      <td>NaN</td>\n",
       "      <td>NaN</td>\n",
       "      <td>20</td>\n",
       "      <td>8/17/2017</td>\n",
       "    </tr>\n",
       "    <tr>\n",
       "      <th>7</th>\n",
       "      <td>616256</td>\n",
       "      <td>61696.43</td>\n",
       "      <td>2/8/2018</td>\n",
       "      <td>Balance brought forward</td>\n",
       "      <td>62696.43</td>\n",
       "      <td>2/17/2018</td>\n",
       "      <td>62196.43</td>\n",
       "      <td>10</td>\n",
       "      <td>4/24/2017</td>\n",
       "    </tr>\n",
       "    <tr>\n",
       "      <th>8</th>\n",
       "      <td>613765</td>\n",
       "      <td>57921.49</td>\n",
       "      <td>1/31/2018</td>\n",
       "      <td>Balance brought forward</td>\n",
       "      <td>59979.47</td>\n",
       "      <td>1/31/2018</td>\n",
       "      <td>58950.48</td>\n",
       "      <td>20</td>\n",
       "      <td>8/17/2017</td>\n",
       "    </tr>\n",
       "    <tr>\n",
       "      <th>9</th>\n",
       "      <td>614547</td>\n",
       "      <td>34276.60</td>\n",
       "      <td>3/7/2018</td>\n",
       "      <td>Balance brought forward</td>\n",
       "      <td>34376.60</td>\n",
       "      <td>3/31/2018</td>\n",
       "      <td>34276.60</td>\n",
       "      <td>20</td>\n",
       "      <td>4/26/2017</td>\n",
       "    </tr>\n",
       "    <tr>\n",
       "      <th>10</th>\n",
       "      <td>614009</td>\n",
       "      <td>26506.93</td>\n",
       "      <td>1/31/2018</td>\n",
       "      <td>Balance brought forward</td>\n",
       "      <td>27306.93</td>\n",
       "      <td>2/5/2018</td>\n",
       "      <td>26906.93</td>\n",
       "      <td>20</td>\n",
       "      <td>8/10/2017</td>\n",
       "    </tr>\n",
       "    <tr>\n",
       "      <th>11</th>\n",
       "      <td>615677</td>\n",
       "      <td>173034.89</td>\n",
       "      <td>1/12/2018</td>\n",
       "      <td>Balance brought forward</td>\n",
       "      <td>181434.89</td>\n",
       "      <td>1/17/2018</td>\n",
       "      <td>178034.89</td>\n",
       "      <td>20</td>\n",
       "      <td>4/26/2017</td>\n",
       "    </tr>\n",
       "    <tr>\n",
       "      <th>12</th>\n",
       "      <td>608994</td>\n",
       "      <td>71319.43</td>\n",
       "      <td>11/29/2017</td>\n",
       "      <td>Balance brought forward</td>\n",
       "      <td>72319.43</td>\n",
       "      <td>12/1/2017</td>\n",
       "      <td>71819.43</td>\n",
       "      <td>3</td>\n",
       "      <td>8/15/2017</td>\n",
       "    </tr>\n",
       "    <tr>\n",
       "      <th>13</th>\n",
       "      <td>603534</td>\n",
       "      <td>110957.99</td>\n",
       "      <td>3/8/2018</td>\n",
       "      <td>Balance brought forward</td>\n",
       "      <td>110957.99</td>\n",
       "      <td>3/28/2018</td>\n",
       "      <td>110107.99</td>\n",
       "      <td>20</td>\n",
       "      <td>2/9/2018</td>\n",
       "    </tr>\n",
       "    <tr>\n",
       "      <th>14</th>\n",
       "      <td>603570</td>\n",
       "      <td>15987.28</td>\n",
       "      <td>2/22/2018</td>\n",
       "      <td>Balance brought forward</td>\n",
       "      <td>18987.28</td>\n",
       "      <td>3/15/2018</td>\n",
       "      <td>15489.40</td>\n",
       "      <td>20</td>\n",
       "      <td>4/26/2017</td>\n",
       "    </tr>\n",
       "    <tr>\n",
       "      <th>15</th>\n",
       "      <td>609632</td>\n",
       "      <td>72064.98</td>\n",
       "      <td>12/22/2015</td>\n",
       "      <td>Balance brought forward</td>\n",
       "      <td>112564.98</td>\n",
       "      <td>1/19/2016</td>\n",
       "      <td>111064.98</td>\n",
       "      <td>20</td>\n",
       "      <td>4/26/2017</td>\n",
       "    </tr>\n",
       "    <tr>\n",
       "      <th>16</th>\n",
       "      <td>615990</td>\n",
       "      <td>4817.20</td>\n",
       "      <td>3/7/2018</td>\n",
       "      <td>Balance brought forward</td>\n",
       "      <td>4817.20</td>\n",
       "      <td>4/3/2018</td>\n",
       "      <td>4617.20</td>\n",
       "      <td>20</td>\n",
       "      <td>4/26/2017</td>\n",
       "    </tr>\n",
       "    <tr>\n",
       "      <th>17</th>\n",
       "      <td>616270</td>\n",
       "      <td>21028.17</td>\n",
       "      <td>1/23/2018</td>\n",
       "      <td>Balance brought forward</td>\n",
       "      <td>25028.17</td>\n",
       "      <td>2/23/2018</td>\n",
       "      <td>23028.17</td>\n",
       "      <td>20</td>\n",
       "      <td>8/17/2017</td>\n",
       "    </tr>\n",
       "    <tr>\n",
       "      <th>18</th>\n",
       "      <td>616330</td>\n",
       "      <td>28845.78</td>\n",
       "      <td>4/4/2018</td>\n",
       "      <td>Balance brought forward</td>\n",
       "      <td>28845.78</td>\n",
       "      <td>4/30/2018</td>\n",
       "      <td>4225.41</td>\n",
       "      <td>6</td>\n",
       "      <td>8/14/2017</td>\n",
       "    </tr>\n",
       "    <tr>\n",
       "      <th>19</th>\n",
       "      <td>613890</td>\n",
       "      <td>21004.97</td>\n",
       "      <td>11/21/2017</td>\n",
       "      <td>Balance brought forward</td>\n",
       "      <td>26204.97</td>\n",
       "      <td>12/20/2017</td>\n",
       "      <td>24904.97</td>\n",
       "      <td>20</td>\n",
       "      <td>4/21/2017</td>\n",
       "    </tr>\n",
       "    <tr>\n",
       "      <th>20</th>\n",
       "      <td>613903</td>\n",
       "      <td>21888.08</td>\n",
       "      <td>11/14/2017</td>\n",
       "      <td>Balance brought forward</td>\n",
       "      <td>23088.08</td>\n",
       "      <td>11/28/2017</td>\n",
       "      <td>22788.08</td>\n",
       "      <td>20</td>\n",
       "      <td>8/15/2017</td>\n",
       "    </tr>\n",
       "    <tr>\n",
       "      <th>21</th>\n",
       "      <td>616127</td>\n",
       "      <td>21844.41</td>\n",
       "      <td>1/16/2018</td>\n",
       "      <td>Balance brought forward</td>\n",
       "      <td>26344.41</td>\n",
       "      <td>1/26/2018</td>\n",
       "      <td>24844.41</td>\n",
       "      <td>17</td>\n",
       "      <td>8/17/2017</td>\n",
       "    </tr>\n",
       "    <tr>\n",
       "      <th>22</th>\n",
       "      <td>609135</td>\n",
       "      <td>11886.48</td>\n",
       "      <td>3/24/2018</td>\n",
       "      <td>Balance brought forward</td>\n",
       "      <td>11886.48</td>\n",
       "      <td>4/5/2018</td>\n",
       "      <td>11686.48</td>\n",
       "      <td>4</td>\n",
       "      <td>8/11/2017</td>\n",
       "    </tr>\n",
       "    <tr>\n",
       "      <th>23</th>\n",
       "      <td>614422</td>\n",
       "      <td>80063.39</td>\n",
       "      <td>12/18/2017</td>\n",
       "      <td>Balance brought forward</td>\n",
       "      <td>84863.39</td>\n",
       "      <td>1/17/2018</td>\n",
       "      <td>83263.39</td>\n",
       "      <td>20</td>\n",
       "      <td>8/17/2017</td>\n",
       "    </tr>\n",
       "    <tr>\n",
       "      <th>24</th>\n",
       "      <td>615644</td>\n",
       "      <td>1622.07</td>\n",
       "      <td>6/6/2016</td>\n",
       "      <td>Balance brought forward</td>\n",
       "      <td>7322.07</td>\n",
       "      <td>6/30/2016</td>\n",
       "      <td>7022.07</td>\n",
       "      <td>20</td>\n",
       "      <td>4/26/2017</td>\n",
       "    </tr>\n",
       "    <tr>\n",
       "      <th>25</th>\n",
       "      <td>616179</td>\n",
       "      <td>24632.41</td>\n",
       "      <td>2/26/2018</td>\n",
       "      <td>Balance brought forward</td>\n",
       "      <td>25632.41</td>\n",
       "      <td>3/2/2018</td>\n",
       "      <td>25132.41</td>\n",
       "      <td>20</td>\n",
       "      <td>8/17/2017</td>\n",
       "    </tr>\n",
       "    <tr>\n",
       "      <th>26</th>\n",
       "      <td>691292</td>\n",
       "      <td>59933.73</td>\n",
       "      <td>12/20/2017</td>\n",
       "      <td>Balance brought forward</td>\n",
       "      <td>65933.73</td>\n",
       "      <td>12/27/2017</td>\n",
       "      <td>63933.73</td>\n",
       "      <td>20</td>\n",
       "      <td>4/26/2017</td>\n",
       "    </tr>\n",
       "    <tr>\n",
       "      <th>27</th>\n",
       "      <td>690430</td>\n",
       "      <td>260.52</td>\n",
       "      <td>2/17/2018</td>\n",
       "      <td>Balance brought forward</td>\n",
       "      <td>860.52</td>\n",
       "      <td>3/10/2018</td>\n",
       "      <td>260.52</td>\n",
       "      <td>20</td>\n",
       "      <td>4/26/2017</td>\n",
       "    </tr>\n",
       "    <tr>\n",
       "      <th>28</th>\n",
       "      <td>690261</td>\n",
       "      <td>59689.17</td>\n",
       "      <td>11/10/2017</td>\n",
       "      <td>Balance brought forward</td>\n",
       "      <td>63889.17</td>\n",
       "      <td>11/27/2017</td>\n",
       "      <td>63189.17</td>\n",
       "      <td>20</td>\n",
       "      <td>4/25/2017</td>\n",
       "    </tr>\n",
       "    <tr>\n",
       "      <th>29</th>\n",
       "      <td>677181</td>\n",
       "      <td>3181.42</td>\n",
       "      <td>11/6/2017</td>\n",
       "      <td>Balance brought forward</td>\n",
       "      <td>11281.42</td>\n",
       "      <td>11/15/2017</td>\n",
       "      <td>9781.42</td>\n",
       "      <td>10</td>\n",
       "      <td>8/15/2017</td>\n",
       "    </tr>\n",
       "    <tr>\n",
       "      <th>...</th>\n",
       "      <td>...</td>\n",
       "      <td>...</td>\n",
       "      <td>...</td>\n",
       "      <td>...</td>\n",
       "      <td>...</td>\n",
       "      <td>...</td>\n",
       "      <td>...</td>\n",
       "      <td>...</td>\n",
       "      <td>...</td>\n",
       "    </tr>\n",
       "    <tr>\n",
       "      <th>170</th>\n",
       "      <td>779107</td>\n",
       "      <td>79256.22</td>\n",
       "      <td>5/5/2017</td>\n",
       "      <td>Balance brought forward</td>\n",
       "      <td>85799.22</td>\n",
       "      <td>5/31/2017</td>\n",
       "      <td>85072.22</td>\n",
       "      <td>8</td>\n",
       "      <td>5/4/2017</td>\n",
       "    </tr>\n",
       "    <tr>\n",
       "      <th>171</th>\n",
       "      <td>778376</td>\n",
       "      <td>93461.20</td>\n",
       "      <td>11/17/2017</td>\n",
       "      <td>Balance brought forward</td>\n",
       "      <td>95461.20</td>\n",
       "      <td>12/7/2017</td>\n",
       "      <td>94961.20</td>\n",
       "      <td>8</td>\n",
       "      <td>8/3/2017</td>\n",
       "    </tr>\n",
       "    <tr>\n",
       "      <th>172</th>\n",
       "      <td>780176</td>\n",
       "      <td>11753.85</td>\n",
       "      <td>5/13/2017</td>\n",
       "      <td>Balance brought forward</td>\n",
       "      <td>15753.85</td>\n",
       "      <td>6/12/2017</td>\n",
       "      <td>15353.85</td>\n",
       "      <td>10</td>\n",
       "      <td>5/5/2017</td>\n",
       "    </tr>\n",
       "    <tr>\n",
       "      <th>173</th>\n",
       "      <td>777355</td>\n",
       "      <td>22605.55</td>\n",
       "      <td>8/14/2017</td>\n",
       "      <td>Balance brought forward</td>\n",
       "      <td>32605.55</td>\n",
       "      <td>8/28/2017</td>\n",
       "      <td>31405.55</td>\n",
       "      <td>8</td>\n",
       "      <td>5/4/2017</td>\n",
       "    </tr>\n",
       "    <tr>\n",
       "      <th>174</th>\n",
       "      <td>779422</td>\n",
       "      <td>7793.45</td>\n",
       "      <td>11/18/2017</td>\n",
       "      <td>Balance brought forward</td>\n",
       "      <td>8593.45</td>\n",
       "      <td>11/30/2017</td>\n",
       "      <td>8393.45</td>\n",
       "      <td>6</td>\n",
       "      <td>5/10/2017</td>\n",
       "    </tr>\n",
       "    <tr>\n",
       "      <th>175</th>\n",
       "      <td>778244</td>\n",
       "      <td>27139.22</td>\n",
       "      <td>5/5/2017</td>\n",
       "      <td>Balance brought forward</td>\n",
       "      <td>36739.22</td>\n",
       "      <td>5/31/2017</td>\n",
       "      <td>35939.22</td>\n",
       "      <td>8</td>\n",
       "      <td>8/7/2017</td>\n",
       "    </tr>\n",
       "    <tr>\n",
       "      <th>176</th>\n",
       "      <td>778901</td>\n",
       "      <td>21178.74</td>\n",
       "      <td>2/22/2018</td>\n",
       "      <td>Balance brought forward</td>\n",
       "      <td>21278.74</td>\n",
       "      <td>3/2/2018</td>\n",
       "      <td>21178.74</td>\n",
       "      <td>10</td>\n",
       "      <td>7/31/2017</td>\n",
       "    </tr>\n",
       "    <tr>\n",
       "      <th>177</th>\n",
       "      <td>777298</td>\n",
       "      <td>8992.74</td>\n",
       "      <td>12/5/2017</td>\n",
       "      <td>Balance brought forward</td>\n",
       "      <td>9192.74</td>\n",
       "      <td>1/3/2018</td>\n",
       "      <td>9142.74</td>\n",
       "      <td>8</td>\n",
       "      <td>5/23/2017</td>\n",
       "    </tr>\n",
       "    <tr>\n",
       "      <th>178</th>\n",
       "      <td>778374</td>\n",
       "      <td>13493.89</td>\n",
       "      <td>2/4/2015</td>\n",
       "      <td>Balance brought forward</td>\n",
       "      <td>18348.41</td>\n",
       "      <td>2/9/2015</td>\n",
       "      <td>18148.41</td>\n",
       "      <td>16</td>\n",
       "      <td>5/3/2017</td>\n",
       "    </tr>\n",
       "    <tr>\n",
       "      <th>179</th>\n",
       "      <td>778803</td>\n",
       "      <td>17456.55</td>\n",
       "      <td>NaN</td>\n",
       "      <td>NaN</td>\n",
       "      <td>NaN</td>\n",
       "      <td>NaN</td>\n",
       "      <td>NaN</td>\n",
       "      <td>20</td>\n",
       "      <td>8/11/2017</td>\n",
       "    </tr>\n",
       "    <tr>\n",
       "      <th>180</th>\n",
       "      <td>778861</td>\n",
       "      <td>3459.60</td>\n",
       "      <td>3/12/2016</td>\n",
       "      <td>Balance brought forward</td>\n",
       "      <td>10359.60</td>\n",
       "      <td>4/4/2016</td>\n",
       "      <td>10109.60</td>\n",
       "      <td>8</td>\n",
       "      <td>8/7/2017</td>\n",
       "    </tr>\n",
       "    <tr>\n",
       "      <th>181</th>\n",
       "      <td>780305</td>\n",
       "      <td>30466.87</td>\n",
       "      <td>1/22/2015</td>\n",
       "      <td>Balance brought forward</td>\n",
       "      <td>38266.87</td>\n",
       "      <td>1/26/2015</td>\n",
       "      <td>38066.87</td>\n",
       "      <td>8</td>\n",
       "      <td>4/27/2017</td>\n",
       "    </tr>\n",
       "    <tr>\n",
       "      <th>182</th>\n",
       "      <td>777926</td>\n",
       "      <td>6673.97</td>\n",
       "      <td>5/3/2017</td>\n",
       "      <td>Balance brought forward</td>\n",
       "      <td>7873.97</td>\n",
       "      <td>5/31/2017</td>\n",
       "      <td>7773.97</td>\n",
       "      <td>8</td>\n",
       "      <td>5/3/2017</td>\n",
       "    </tr>\n",
       "    <tr>\n",
       "      <th>183</th>\n",
       "      <td>779457</td>\n",
       "      <td>5142.42</td>\n",
       "      <td>12/4/2017</td>\n",
       "      <td>Balance brought forward</td>\n",
       "      <td>5742.42</td>\n",
       "      <td>12/15/2017</td>\n",
       "      <td>5642.42</td>\n",
       "      <td>8</td>\n",
       "      <td>8/8/2017</td>\n",
       "    </tr>\n",
       "    <tr>\n",
       "      <th>184</th>\n",
       "      <td>777716</td>\n",
       "      <td>36327.19</td>\n",
       "      <td>6/15/2016</td>\n",
       "      <td>Balance brought forward</td>\n",
       "      <td>45583.69</td>\n",
       "      <td>6/29/2016</td>\n",
       "      <td>45162.94</td>\n",
       "      <td>8</td>\n",
       "      <td>8/2/2017</td>\n",
       "    </tr>\n",
       "    <tr>\n",
       "      <th>185</th>\n",
       "      <td>776309</td>\n",
       "      <td>158519.57</td>\n",
       "      <td>3/12/2018</td>\n",
       "      <td>Balance brought forward</td>\n",
       "      <td>158519.57</td>\n",
       "      <td>3/31/2018</td>\n",
       "      <td>157519.57</td>\n",
       "      <td>20</td>\n",
       "      <td>8/15/2017</td>\n",
       "    </tr>\n",
       "    <tr>\n",
       "      <th>186</th>\n",
       "      <td>780354</td>\n",
       "      <td>36964.74</td>\n",
       "      <td>3/15/2018</td>\n",
       "      <td>Balance brought forward</td>\n",
       "      <td>35464.74</td>\n",
       "      <td>4/3/2018</td>\n",
       "      <td>33964.74</td>\n",
       "      <td>17</td>\n",
       "      <td>7/22/2017</td>\n",
       "    </tr>\n",
       "    <tr>\n",
       "      <th>187</th>\n",
       "      <td>775944</td>\n",
       "      <td>7212.71</td>\n",
       "      <td>11/15/2017</td>\n",
       "      <td>Balance brought forward</td>\n",
       "      <td>10212.71</td>\n",
       "      <td>11/28/2017</td>\n",
       "      <td>9612.71</td>\n",
       "      <td>10</td>\n",
       "      <td>4/26/2017</td>\n",
       "    </tr>\n",
       "    <tr>\n",
       "      <th>188</th>\n",
       "      <td>780058</td>\n",
       "      <td>60993.90</td>\n",
       "      <td>10/9/2017</td>\n",
       "      <td>Balance brought forward</td>\n",
       "      <td>64493.90</td>\n",
       "      <td>10/31/2017</td>\n",
       "      <td>63993.90</td>\n",
       "      <td>8</td>\n",
       "      <td>8/1/2017</td>\n",
       "    </tr>\n",
       "    <tr>\n",
       "      <th>189</th>\n",
       "      <td>778911</td>\n",
       "      <td>64478.22</td>\n",
       "      <td>1/25/2018</td>\n",
       "      <td>Balance brought forward</td>\n",
       "      <td>65278.22</td>\n",
       "      <td>2/3/2018</td>\n",
       "      <td>64878.22</td>\n",
       "      <td>8</td>\n",
       "      <td>8/3/2017</td>\n",
       "    </tr>\n",
       "    <tr>\n",
       "      <th>190</th>\n",
       "      <td>778869</td>\n",
       "      <td>9991.92</td>\n",
       "      <td>2/26/2015</td>\n",
       "      <td>Balance brought forward</td>\n",
       "      <td>13002.66</td>\n",
       "      <td>2/28/2015</td>\n",
       "      <td>12702.66</td>\n",
       "      <td>6</td>\n",
       "      <td>8/1/2017</td>\n",
       "    </tr>\n",
       "    <tr>\n",
       "      <th>191</th>\n",
       "      <td>778809</td>\n",
       "      <td>10220.56</td>\n",
       "      <td>12/1/2017</td>\n",
       "      <td>Balance brought forward</td>\n",
       "      <td>10570.56</td>\n",
       "      <td>12/23/2017</td>\n",
       "      <td>10420.56</td>\n",
       "      <td>8</td>\n",
       "      <td>8/14/2017</td>\n",
       "    </tr>\n",
       "    <tr>\n",
       "      <th>192</th>\n",
       "      <td>780362</td>\n",
       "      <td>15147.14</td>\n",
       "      <td>2/10/2018</td>\n",
       "      <td>Balance brought forward</td>\n",
       "      <td>15747.14</td>\n",
       "      <td>2/28/2018</td>\n",
       "      <td>15447.14</td>\n",
       "      <td>8</td>\n",
       "      <td>8/7/2017</td>\n",
       "    </tr>\n",
       "    <tr>\n",
       "      <th>193</th>\n",
       "      <td>779135</td>\n",
       "      <td>88544.09</td>\n",
       "      <td>5/19/2017</td>\n",
       "      <td>Balance brought forward</td>\n",
       "      <td>94044.09</td>\n",
       "      <td>5/31/2017</td>\n",
       "      <td>93544.09</td>\n",
       "      <td>10</td>\n",
       "      <td>5/15/2017</td>\n",
       "    </tr>\n",
       "    <tr>\n",
       "      <th>194</th>\n",
       "      <td>777769</td>\n",
       "      <td>14584.39</td>\n",
       "      <td>5/10/2017</td>\n",
       "      <td>Balance brought forward</td>\n",
       "      <td>15684.39</td>\n",
       "      <td>5/26/2017</td>\n",
       "      <td>15584.39</td>\n",
       "      <td>6</td>\n",
       "      <td>8/16/2017</td>\n",
       "    </tr>\n",
       "    <tr>\n",
       "      <th>195</th>\n",
       "      <td>779739</td>\n",
       "      <td>1547.37</td>\n",
       "      <td>1/20/2018</td>\n",
       "      <td>Balance brought forward</td>\n",
       "      <td>1747.37</td>\n",
       "      <td>1/31/2018</td>\n",
       "      <td>1647.37</td>\n",
       "      <td>8</td>\n",
       "      <td>8/8/2017</td>\n",
       "    </tr>\n",
       "    <tr>\n",
       "      <th>196</th>\n",
       "      <td>777960</td>\n",
       "      <td>12745.10</td>\n",
       "      <td>11/16/2017</td>\n",
       "      <td>Balance brought forward</td>\n",
       "      <td>15745.10</td>\n",
       "      <td>12/2/2017</td>\n",
       "      <td>15145.10</td>\n",
       "      <td>6</td>\n",
       "      <td>8/3/2017</td>\n",
       "    </tr>\n",
       "    <tr>\n",
       "      <th>197</th>\n",
       "      <td>777196</td>\n",
       "      <td>22422.33</td>\n",
       "      <td>5/10/2017</td>\n",
       "      <td>Balance brought forward</td>\n",
       "      <td>25222.33</td>\n",
       "      <td>5/26/2017</td>\n",
       "      <td>25022.33</td>\n",
       "      <td>4</td>\n",
       "      <td>7/26/2017</td>\n",
       "    </tr>\n",
       "    <tr>\n",
       "      <th>198</th>\n",
       "      <td>777947</td>\n",
       "      <td>6301.01</td>\n",
       "      <td>11/1/2017</td>\n",
       "      <td>Balance brought forward</td>\n",
       "      <td>7051.01</td>\n",
       "      <td>11/30/2017</td>\n",
       "      <td>6901.01</td>\n",
       "      <td>10</td>\n",
       "      <td>4/20/2017</td>\n",
       "    </tr>\n",
       "    <tr>\n",
       "      <th>199</th>\n",
       "      <td>778259</td>\n",
       "      <td>6934.61</td>\n",
       "      <td>1/31/2018</td>\n",
       "      <td>Balance brought forward</td>\n",
       "      <td>6934.61</td>\n",
       "      <td>2/1/2018</td>\n",
       "      <td>5934.61</td>\n",
       "      <td>10</td>\n",
       "      <td>5/29/2017</td>\n",
       "    </tr>\n",
       "  </tbody>\n",
       "</table>\n",
       "<p>200 rows × 9 columns</p>\n",
       "</div>"
      ],
      "text/plain": [
       "        IDX  CurrentBalance DateArrangementMade              DateAp_Desc  \\\n",
       "0    316191        36716.00           8/10/2017  Balance brought forward   \n",
       "1    609722         7704.53           8/11/2017  Balance brought forward   \n",
       "2    609770         3712.48           2/20/2018  Balance brought forward   \n",
       "3    605313        27930.50            4/3/2018  Balance brought forward   \n",
       "4    608773         5482.85           1/12/2018  Balance brought forward   \n",
       "5    608889        10842.05           3/15/2018  Balance brought forward   \n",
       "6    609142         1702.18                 NaN                      NaN   \n",
       "7    616256        61696.43            2/8/2018  Balance brought forward   \n",
       "8    613765        57921.49           1/31/2018  Balance brought forward   \n",
       "9    614547        34276.60            3/7/2018  Balance brought forward   \n",
       "10   614009        26506.93           1/31/2018  Balance brought forward   \n",
       "11   615677       173034.89           1/12/2018  Balance brought forward   \n",
       "12   608994        71319.43          11/29/2017  Balance brought forward   \n",
       "13   603534       110957.99            3/8/2018  Balance brought forward   \n",
       "14   603570        15987.28           2/22/2018  Balance brought forward   \n",
       "15   609632        72064.98          12/22/2015  Balance brought forward   \n",
       "16   615990         4817.20            3/7/2018  Balance brought forward   \n",
       "17   616270        21028.17           1/23/2018  Balance brought forward   \n",
       "18   616330        28845.78            4/4/2018  Balance brought forward   \n",
       "19   613890        21004.97          11/21/2017  Balance brought forward   \n",
       "20   613903        21888.08          11/14/2017  Balance brought forward   \n",
       "21   616127        21844.41           1/16/2018  Balance brought forward   \n",
       "22   609135        11886.48           3/24/2018  Balance brought forward   \n",
       "23   614422        80063.39          12/18/2017  Balance brought forward   \n",
       "24   615644         1622.07            6/6/2016  Balance brought forward   \n",
       "25   616179        24632.41           2/26/2018  Balance brought forward   \n",
       "26   691292        59933.73          12/20/2017  Balance brought forward   \n",
       "27   690430          260.52           2/17/2018  Balance brought forward   \n",
       "28   690261        59689.17          11/10/2017  Balance brought forward   \n",
       "29   677181         3181.42           11/6/2017  Balance brought forward   \n",
       "..      ...             ...                 ...                      ...   \n",
       "170  779107        79256.22            5/5/2017  Balance brought forward   \n",
       "171  778376        93461.20          11/17/2017  Balance brought forward   \n",
       "172  780176        11753.85           5/13/2017  Balance brought forward   \n",
       "173  777355        22605.55           8/14/2017  Balance brought forward   \n",
       "174  779422         7793.45          11/18/2017  Balance brought forward   \n",
       "175  778244        27139.22            5/5/2017  Balance brought forward   \n",
       "176  778901        21178.74           2/22/2018  Balance brought forward   \n",
       "177  777298         8992.74           12/5/2017  Balance brought forward   \n",
       "178  778374        13493.89            2/4/2015  Balance brought forward   \n",
       "179  778803        17456.55                 NaN                      NaN   \n",
       "180  778861         3459.60           3/12/2016  Balance brought forward   \n",
       "181  780305        30466.87           1/22/2015  Balance brought forward   \n",
       "182  777926         6673.97            5/3/2017  Balance brought forward   \n",
       "183  779457         5142.42           12/4/2017  Balance brought forward   \n",
       "184  777716        36327.19           6/15/2016  Balance brought forward   \n",
       "185  776309       158519.57           3/12/2018  Balance brought forward   \n",
       "186  780354        36964.74           3/15/2018  Balance brought forward   \n",
       "187  775944         7212.71          11/15/2017  Balance brought forward   \n",
       "188  780058        60993.90           10/9/2017  Balance brought forward   \n",
       "189  778911        64478.22           1/25/2018  Balance brought forward   \n",
       "190  778869         9991.92           2/26/2015  Balance brought forward   \n",
       "191  778809        10220.56           12/1/2017  Balance brought forward   \n",
       "192  780362        15147.14           2/10/2018  Balance brought forward   \n",
       "193  779135        88544.09           5/19/2017  Balance brought forward   \n",
       "194  777769        14584.39           5/10/2017  Balance brought forward   \n",
       "195  779739         1547.37           1/20/2018  Balance brought forward   \n",
       "196  777960        12745.10          11/16/2017  Balance brought forward   \n",
       "197  777196        22422.33           5/10/2017  Balance brought forward   \n",
       "198  777947         6301.01           11/1/2017  Balance brought forward   \n",
       "199  778259         6934.61           1/31/2018  Balance brought forward   \n",
       "\n",
       "     Opening Balance FirstInstalmentDueDate  FirstInstalmentDueDateAP_Running  \\\n",
       "0           36816.00              8/15/2017                          36716.00   \n",
       "1            7704.53              8/31/2017                           6849.90   \n",
       "2            4211.48              2/28/2018                           3713.12   \n",
       "3           27930.50              4/30/2018                          23430.50   \n",
       "4            7110.61              1/27/2018                           6610.61   \n",
       "5           10842.05              4/14/2018                           8739.15   \n",
       "6                NaN                    NaN                               NaN   \n",
       "7           62696.43              2/17/2018                          62196.43   \n",
       "8           59979.47              1/31/2018                          58950.48   \n",
       "9           34376.60              3/31/2018                          34276.60   \n",
       "10          27306.93               2/5/2018                          26906.93   \n",
       "11         181434.89              1/17/2018                         178034.89   \n",
       "12          72319.43              12/1/2017                          71819.43   \n",
       "13         110957.99              3/28/2018                         110107.99   \n",
       "14          18987.28              3/15/2018                          15489.40   \n",
       "15         112564.98              1/19/2016                         111064.98   \n",
       "16           4817.20               4/3/2018                           4617.20   \n",
       "17          25028.17              2/23/2018                          23028.17   \n",
       "18          28845.78              4/30/2018                           4225.41   \n",
       "19          26204.97             12/20/2017                          24904.97   \n",
       "20          23088.08             11/28/2017                          22788.08   \n",
       "21          26344.41              1/26/2018                          24844.41   \n",
       "22          11886.48               4/5/2018                          11686.48   \n",
       "23          84863.39              1/17/2018                          83263.39   \n",
       "24           7322.07              6/30/2016                           7022.07   \n",
       "25          25632.41               3/2/2018                          25132.41   \n",
       "26          65933.73             12/27/2017                          63933.73   \n",
       "27            860.52              3/10/2018                            260.52   \n",
       "28          63889.17             11/27/2017                          63189.17   \n",
       "29          11281.42             11/15/2017                           9781.42   \n",
       "..               ...                    ...                               ...   \n",
       "170         85799.22              5/31/2017                          85072.22   \n",
       "171         95461.20              12/7/2017                          94961.20   \n",
       "172         15753.85              6/12/2017                          15353.85   \n",
       "173         32605.55              8/28/2017                          31405.55   \n",
       "174          8593.45             11/30/2017                           8393.45   \n",
       "175         36739.22              5/31/2017                          35939.22   \n",
       "176         21278.74               3/2/2018                          21178.74   \n",
       "177          9192.74               1/3/2018                           9142.74   \n",
       "178         18348.41               2/9/2015                          18148.41   \n",
       "179              NaN                    NaN                               NaN   \n",
       "180         10359.60               4/4/2016                          10109.60   \n",
       "181         38266.87              1/26/2015                          38066.87   \n",
       "182          7873.97              5/31/2017                           7773.97   \n",
       "183          5742.42             12/15/2017                           5642.42   \n",
       "184         45583.69              6/29/2016                          45162.94   \n",
       "185        158519.57              3/31/2018                         157519.57   \n",
       "186         35464.74               4/3/2018                          33964.74   \n",
       "187         10212.71             11/28/2017                           9612.71   \n",
       "188         64493.90             10/31/2017                          63993.90   \n",
       "189         65278.22               2/3/2018                          64878.22   \n",
       "190         13002.66              2/28/2015                          12702.66   \n",
       "191         10570.56             12/23/2017                          10420.56   \n",
       "192         15747.14              2/28/2018                          15447.14   \n",
       "193         94044.09              5/31/2017                          93544.09   \n",
       "194         15684.39              5/26/2017                          15584.39   \n",
       "195          1747.37              1/31/2018                           1647.37   \n",
       "196         15745.10              12/2/2017                          15145.10   \n",
       "197         25222.33              5/26/2017                          25022.33   \n",
       "198          7051.01             11/30/2017                           6901.01   \n",
       "199          6934.61               2/1/2018                           5934.61   \n",
       "\n",
       "     HistoryAction_ID H_DateTime  \n",
       "0                  10  4/26/2017  \n",
       "1                  10  4/24/2017  \n",
       "2                  20  4/26/2017  \n",
       "3                  20  4/26/2017  \n",
       "4                  10  4/28/2017  \n",
       "5                   6  4/21/2017  \n",
       "6                  20  8/17/2017  \n",
       "7                  10  4/24/2017  \n",
       "8                  20  8/17/2017  \n",
       "9                  20  4/26/2017  \n",
       "10                 20  8/10/2017  \n",
       "11                 20  4/26/2017  \n",
       "12                  3  8/15/2017  \n",
       "13                 20   2/9/2018  \n",
       "14                 20  4/26/2017  \n",
       "15                 20  4/26/2017  \n",
       "16                 20  4/26/2017  \n",
       "17                 20  8/17/2017  \n",
       "18                  6  8/14/2017  \n",
       "19                 20  4/21/2017  \n",
       "20                 20  8/15/2017  \n",
       "21                 17  8/17/2017  \n",
       "22                  4  8/11/2017  \n",
       "23                 20  8/17/2017  \n",
       "24                 20  4/26/2017  \n",
       "25                 20  8/17/2017  \n",
       "26                 20  4/26/2017  \n",
       "27                 20  4/26/2017  \n",
       "28                 20  4/25/2017  \n",
       "29                 10  8/15/2017  \n",
       "..                ...        ...  \n",
       "170                 8   5/4/2017  \n",
       "171                 8   8/3/2017  \n",
       "172                10   5/5/2017  \n",
       "173                 8   5/4/2017  \n",
       "174                 6  5/10/2017  \n",
       "175                 8   8/7/2017  \n",
       "176                10  7/31/2017  \n",
       "177                 8  5/23/2017  \n",
       "178                16   5/3/2017  \n",
       "179                20  8/11/2017  \n",
       "180                 8   8/7/2017  \n",
       "181                 8  4/27/2017  \n",
       "182                 8   5/3/2017  \n",
       "183                 8   8/8/2017  \n",
       "184                 8   8/2/2017  \n",
       "185                20  8/15/2017  \n",
       "186                17  7/22/2017  \n",
       "187                10  4/26/2017  \n",
       "188                 8   8/1/2017  \n",
       "189                 8   8/3/2017  \n",
       "190                 6   8/1/2017  \n",
       "191                 8  8/14/2017  \n",
       "192                 8   8/7/2017  \n",
       "193                10  5/15/2017  \n",
       "194                 6  8/16/2017  \n",
       "195                 8   8/8/2017  \n",
       "196                 6   8/3/2017  \n",
       "197                 4  7/26/2017  \n",
       "198                10  4/20/2017  \n",
       "199                10  5/29/2017  \n",
       "\n",
       "[200 rows x 9 columns]"
      ]
     },
     "execution_count": 29,
     "metadata": {},
     "output_type": "execute_result"
    }
   ],
   "source": [
    "df.head(n=200)"
   ]
  },
  {
   "cell_type": "markdown",
   "metadata": {
    "slideshow": {
     "slide_type": "subslide"
    }
   },
   "source": [
    "### 10 is SMS\n",
    "### 6 is CALL\n",
    "### 20 is Letter Run"
   ]
  },
  {
   "cell_type": "code",
   "execution_count": 13,
   "metadata": {
    "slideshow": {
     "slide_type": "subslide"
    }
   },
   "outputs": [],
   "source": [
    "tens = len(dr[dr.HistoryAction_ID == 10])\n",
    "sixes = len(dr[dr.HistoryAction_ID == 6])\n",
    "probability_of_CALL = sixes/len(dr)\n",
    "probability_of_SMS = tens/len(dr)"
   ]
  },
  {
   "cell_type": "code",
   "execution_count": 14,
   "metadata": {
    "slideshow": {
     "slide_type": "subslide"
    }
   },
   "outputs": [
    {
     "data": {
      "text/plain": [
       "0.15458207452165157"
      ]
     },
     "execution_count": 14,
     "metadata": {},
     "output_type": "execute_result"
    }
   ],
   "source": [
    "probability_of_CALL"
   ]
  },
  {
   "cell_type": "markdown",
   "metadata": {
    "slideshow": {
     "slide_type": "fragment"
    }
   },
   "source": [
    "## This shows that the probability that an CALL would result in a PTP is 0.1593  "
   ]
  },
  {
   "cell_type": "code",
   "execution_count": 15,
   "metadata": {
    "slideshow": {
     "slide_type": "subslide"
    }
   },
   "outputs": [
    {
     "data": {
      "text/plain": [
       "0.41289023162134947"
      ]
     },
     "execution_count": 15,
     "metadata": {},
     "output_type": "execute_result"
    }
   ],
   "source": [
    "probability_of_SMS"
   ]
  },
  {
   "cell_type": "markdown",
   "metadata": {
    "slideshow": {
     "slide_type": "fragment"
    }
   },
   "source": [
    "## This shows that the probability that an SMS would result in a PTP is 0.4102"
   ]
  },
  {
   "cell_type": "code",
   "execution_count": 16,
   "metadata": {
    "slideshow": {
     "slide_type": "subslide"
    }
   },
   "outputs": [
    {
     "data": {
      "text/plain": [
       "0.567472306143001"
      ]
     },
     "execution_count": 16,
     "metadata": {},
     "output_type": "execute_result"
    }
   ],
   "source": [
    "probability_of_CALL + probability_of_SMS"
   ]
  },
  {
   "cell_type": "markdown",
   "metadata": {
    "slideshow": {
     "slide_type": "fragment"
    }
   },
   "source": [
    "## For a combination of a phone call and SMS would result in a 0.5674 probability that a PTP would follow"
   ]
  },
  {
   "cell_type": "markdown",
   "metadata": {
    "slideshow": {
     "slide_type": "subslide"
    }
   },
   "source": [
    "- Next I list all the probabilities for all the possibly actions from the Excalibur Database"
   ]
  },
  {
   "cell_type": "code",
   "execution_count": 17,
   "metadata": {
    "scrolled": true,
    "slideshow": {
     "slide_type": "subslide"
    }
   },
   "outputs": [
    {
     "data": {
      "text/plain": [
       "{0: 0.0,\n",
       " 1: 0.0015105740181268882,\n",
       " 2: 0.0015105740181268882,\n",
       " 3: 0.06294058408862034,\n",
       " 4: 0.006545820745216516,\n",
       " 5: 0.0,\n",
       " 6: 0.15458207452165157,\n",
       " 7: 0.0015105740181268882,\n",
       " 8: 0.0,\n",
       " 9: 0.0015105740181268882,\n",
       " 10: 0.41289023162134947,\n",
       " 11: 0.03675730110775428,\n",
       " 12: 0.014098690835850957,\n",
       " 13: 0.002014098690835851,\n",
       " 14: 0.0,\n",
       " 15: 0.0010070493454179255,\n",
       " 16: 0.008056394763343404,\n",
       " 17: 0.02366565961732125,\n",
       " 18: 0.0,\n",
       " 19: 0.0,\n",
       " 20: 0.2512588116817724}"
      ]
     },
     "execution_count": 17,
     "metadata": {},
     "output_type": "execute_result"
    }
   ],
   "source": [
    "probs = {}\n",
    "actions = range(0,21)\n",
    "for action in actions:\n",
    "    prob_of_action = len(dr[dr.HistoryAction_ID == action]) / len(dr)\n",
    "    probs[action] = prob_of_action\n",
    "probs"
   ]
  },
  {
   "cell_type": "markdown",
   "metadata": {
    "slideshow": {
     "slide_type": "subslide"
    }
   },
   "source": [
    "### I then plot these probabilities on a bar graph for graphic representation"
   ]
  },
  {
   "cell_type": "code",
   "execution_count": 18,
   "metadata": {
    "scrolled": false,
    "slideshow": {
     "slide_type": "fragment"
    }
   },
   "outputs": [
    {
     "data": {
      "text/plain": [
       "<matplotlib.axes._subplots.AxesSubplot at 0x33d8130>"
      ]
     },
     "execution_count": 18,
     "metadata": {},
     "output_type": "execute_result"
    },
    {
     "data": {
      "image/png": "[encoded data removed]",
      "text/plain": [
       "<matplotlib.figure.Figure at 0x5d324f0>"
      ]
     },
     "metadata": {},
     "output_type": "display_data"
    }
   ],
   "source": [
    "pd.DataFrame(list(probs.values())).plot(kind='bar')"
   ]
  },
  {
   "cell_type": "markdown",
   "metadata": {
    "slideshow": {
     "slide_type": "subslide"
    }
   },
   "source": [
    "### Demographics of the population group was not provided in the Excalibur dataset, \n",
    "### However I did write 2 sets of code that iterated through the identity numbers supplied in the dataset. \n",
    "### Then I had the algorithm iterate through every 7th digit in the identity numbers, this digit as per the Department of Home Affairs, represents an individuals Gender"
   ]
  },
  {
   "cell_type": "code",
   "execution_count": 19,
   "metadata": {
    "slideshow": {
     "slide_type": "subslide"
    }
   },
   "outputs": [],
   "source": [
    "def gender(row):\n",
    "    ID = str(row['d_debtoridentityno'])\n",
    "    if len(ID) != 13:\n",
    "        return \"Unknown\"\n",
    "    age_digit = int(ID[6])\n",
    "    if 0 <= age_digit <= 4:\n",
    "        return 'FEMALE'\n",
    "    return 'MALE'"
   ]
  },
  {
   "cell_type": "markdown",
   "metadata": {
    "slideshow": {
     "slide_type": "fragment"
    }
   },
   "source": [
    "### From here I had the algorithm iterate through the first 6 digits and produce an age."
   ]
  },
  {
   "cell_type": "code",
   "execution_count": 20,
   "metadata": {
    "slideshow": {
     "slide_type": "subslide"
    }
   },
   "outputs": [],
   "source": [
    "def age(row):\n",
    "    ID = str(row['d_debtoridentityno'])\n",
    "    if len(ID) != 13:\n",
    "        return -1\n",
    "    yob = int(ID[0:2])\n",
    "    return 118-yob"
   ]
  },
  {
   "cell_type": "markdown",
   "metadata": {
    "slideshow": {
     "slide_type": "fragment"
    }
   },
   "source": [
    "#### I then add new columns to the data set called \"Age\" and \"Gender\" to further segment the statistics into demographics"
   ]
  },
  {
   "cell_type": "code",
   "execution_count": 21,
   "metadata": {
    "slideshow": {
     "slide_type": "subslide"
    }
   },
   "outputs": [
    {
     "name": "stderr",
     "output_type": "stream",
     "text": [
      "C:\\Users\\Lauren\\Anaconda3\\lib\\site-packages\\ipykernel_launcher.py:1: SettingWithCopyWarning: \n",
      "A value is trying to be set on a copy of a slice from a DataFrame.\n",
      "Try using .loc[row_indexer,col_indexer] = value instead\n",
      "\n",
      "See the caveats in the documentation: http://pandas.pydata.org/pandas-docs/stable/indexing.html#indexing-view-versus-copy\n",
      "  \"\"\"Entry point for launching an IPython kernel.\n"
     ]
    }
   ],
   "source": [
    "dr['Gender'] = dr.apply(gender, axis=1)"
   ]
  },
  {
   "cell_type": "code",
   "execution_count": 22,
   "metadata": {
    "slideshow": {
     "slide_type": "subslide"
    }
   },
   "outputs": [
    {
     "name": "stderr",
     "output_type": "stream",
     "text": [
      "C:\\Users\\Lauren\\Anaconda3\\lib\\site-packages\\ipykernel_launcher.py:1: SettingWithCopyWarning: \n",
      "A value is trying to be set on a copy of a slice from a DataFrame.\n",
      "Try using .loc[row_indexer,col_indexer] = value instead\n",
      "\n",
      "See the caveats in the documentation: http://pandas.pydata.org/pandas-docs/stable/indexing.html#indexing-view-versus-copy\n",
      "  \"\"\"Entry point for launching an IPython kernel.\n"
     ]
    }
   ],
   "source": [
    "dr['Age'] = dr.apply(age, axis=1)"
   ]
  },
  {
   "cell_type": "code",
   "execution_count": 24,
   "metadata": {
    "slideshow": {
     "slide_type": "skip"
    }
   },
   "outputs": [],
   "source": [
    "#dr.to_csv('datesora.csv')"
   ]
  },
  {
   "cell_type": "markdown",
   "metadata": {
    "slideshow": {
     "slide_type": "subslide"
    }
   },
   "source": [
    "- Because not all people who take are debt are South African Citizens, not everyone would have provided their \"ID NUMBERS\", some individuals would have supplied their \"Passport Number\" \n",
    "- I believe this account for certain impossible ages like -1"
   ]
  },
  {
   "cell_type": "code",
   "execution_count": 25,
   "metadata": {
    "slideshow": {
     "slide_type": "fragment"
    }
   },
   "outputs": [
    {
     "data": {
      "text/plain": [
       "89"
      ]
     },
     "execution_count": 25,
     "metadata": {},
     "output_type": "execute_result"
    }
   ],
   "source": [
    "dr['Age'].max()"
   ]
  },
  {
   "cell_type": "code",
   "execution_count": null,
   "metadata": {
    "slideshow": {
     "slide_type": "fragment"
    }
   },
   "outputs": [],
   "source": [
    "dr['Age'].min()"
   ]
  },
  {
   "cell_type": "markdown",
   "metadata": {
    "slideshow": {
     "slide_type": "fragment"
    }
   },
   "source": [
    "- I segment the new ages column into an interval of 25-75"
   ]
  },
  {
   "cell_type": "code",
   "execution_count": 23,
   "metadata": {
    "slideshow": {
     "slide_type": "subslide"
    }
   },
   "outputs": [],
   "source": [
    "dr = dr[(dr['Age'] >=25 ) & (dr['Age'] <= 75)]"
   ]
  },
  {
   "cell_type": "markdown",
   "metadata": {
    "slideshow": {
     "slide_type": "fragment"
    }
   },
   "source": [
    "#### I now split ages into incriments of 10"
   ]
  },
  {
   "cell_type": "code",
   "execution_count": 27,
   "metadata": {
    "slideshow": {
     "slide_type": "subslide"
    }
   },
   "outputs": [],
   "source": [
    "def age_range(start, end):\n",
    "    return dr[(dr['Age'] >= start) & (dr['Age'] < end)]\n",
    "\n",
    "Mid_twenties_to_thirties = age_range(25, 35)\n",
    "Mid_thirties_to_fourties = age_range(35, 45)\n",
    "Mid_fourties_to_fifties = age_range(45, 55)\n",
    "Mid_fifties_to_sixties = age_range(55, 65)\n",
    "Mid_sixties_to_seventies = age_range(65, 75)"
   ]
  },
  {
   "cell_type": "code",
   "execution_count": 28,
   "metadata": {
    "slideshow": {
     "slide_type": "subslide"
    }
   },
   "outputs": [],
   "source": [
    "def format_percentage(num):\n",
    "    return ('%.10f' % num) + '%'"
   ]
  },
  {
   "cell_type": "code",
   "execution_count": 29,
   "metadata": {
    "slideshow": {
     "slide_type": "fragment"
    }
   },
   "outputs": [
    {
     "data": {
      "text/plain": [
       "55.70332480818414"
      ]
     },
     "execution_count": 29,
     "metadata": {},
     "output_type": "execute_result"
    }
   ],
   "source": [
    "(len(dr[dr['Gender'] == \"MALE\" ]))/(len(dr['Gender'])) *100"
   ]
  },
  {
   "cell_type": "code",
   "execution_count": 30,
   "metadata": {
    "slideshow": {
     "slide_type": "fragment"
    }
   },
   "outputs": [
    {
     "data": {
      "text/plain": [
       "44.29667519181585"
      ]
     },
     "execution_count": 30,
     "metadata": {},
     "output_type": "execute_result"
    }
   ],
   "source": [
    "(len(dr[dr['Gender'] == \"FEMALE\" ]))/(len(dr['Gender'])) *100"
   ]
  },
  {
   "cell_type": "code",
   "execution_count": 31,
   "metadata": {
    "slideshow": {
     "slide_type": "subslide"
    }
   },
   "outputs": [],
   "source": [
    "RTA_10 = dr[(dr['HistoryAction_ID'] == 10)]\n",
    "def AGE_range(start, end):\n",
    "    return RTA_10[(RTA_10['Age'] >= start) & (RTA_10['Age'] < end)]\n",
    "\n",
    "\n",
    "Mid_20s_to_30s = AGE_range(25, 35)\n",
    "Mid_30s_to_40s = AGE_range(35, 45)\n",
    "Mid_40s_to_50s = AGE_range(45, 55)\n",
    "Mid_50s_to_60s = AGE_range(55, 65)\n",
    "Mid_60s_to_70s = AGE_range(65, 75)"
   ]
  },
  {
   "cell_type": "code",
   "execution_count": 32,
   "metadata": {
    "slideshow": {
     "slide_type": "subslide"
    }
   },
   "outputs": [],
   "source": [
    "RTA_6 = dr[(dr['HistoryAction_ID'] == 6)]\n",
    "def AGES_range(start, end):\n",
    "    return RTA_6[(RTA_6['Age'] >= start) & (RTA_6['Age'] < end)]\n",
    "\n",
    "\n",
    "t20s_to_30s = AGES_range(25, 35)\n",
    "t30s_to_40s = AGES_range(35, 45)\n",
    "t40s_to_50s = AGES_range(45, 55)\n",
    "t50s_to_60s = AGES_range(55, 65)\n",
    "t60s_to_70s = AGES_range(65, 75)"
   ]
  },
  {
   "cell_type": "code",
   "execution_count": 33,
   "metadata": {
    "slideshow": {
     "slide_type": "subslide"
    }
   },
   "outputs": [],
   "source": [
    "RTA_20 = dr[(dr['HistoryAction_ID'] == 20)]\n",
    "def AGES_Range(start, end):\n",
    "    return RTA_6[(RTA_6['Age'] >= start) & (RTA_6['Age'] < end)]\n",
    "\n",
    "\n",
    "p20s_to_30s = AGES_Range(25, 35)\n",
    "p30s_to_40s = AGES_Range(35, 45)\n",
    "p40s_to_50s = AGES_Range(45, 55)\n",
    "p50s_to_60s = AGES_Range(55, 65)\n",
    "p60s_to_70s = AGES_Range(65, 75)"
   ]
  },
  {
   "cell_type": "code",
   "execution_count": 34,
   "metadata": {
    "slideshow": {
     "slide_type": "subslide"
    }
   },
   "outputs": [
    {
     "name": "stdout",
     "output_type": "stream",
     "text": [
      "11.5089514066%\n"
     ]
    }
   ],
   "source": [
    "print(format_percentage(Mid_twenties_to_thirties['Age'].count() / len(dr['Age']) *100))"
   ]
  },
  {
   "cell_type": "code",
   "execution_count": 35,
   "metadata": {
    "slideshow": {
     "slide_type": "fragment"
    }
   },
   "outputs": [
    {
     "name": "stdout",
     "output_type": "stream",
     "text": [
      "29.2583120205%\n"
     ]
    }
   ],
   "source": [
    "print(format_percentage(Mid_thirties_to_fourties['Age'].count() / dr['Age'].count() *100))"
   ]
  },
  {
   "cell_type": "code",
   "execution_count": 36,
   "metadata": {
    "slideshow": {
     "slide_type": "fragment"
    }
   },
   "outputs": [
    {
     "name": "stdout",
     "output_type": "stream",
     "text": [
      "33.2992327366%\n"
     ]
    }
   ],
   "source": [
    "print(format_percentage(Mid_fourties_to_fifties['Age'].count() / dr['Age'].count() *100))"
   ]
  },
  {
   "cell_type": "code",
   "execution_count": 37,
   "metadata": {
    "slideshow": {
     "slide_type": "fragment"
    }
   },
   "outputs": [
    {
     "name": "stdout",
     "output_type": "stream",
     "text": [
      "19.1815856777%\n"
     ]
    }
   ],
   "source": [
    "print(format_percentage(Mid_fifties_to_sixties['Age'].count() / dr['Age'].count() *100))"
   ]
  },
  {
   "cell_type": "code",
   "execution_count": 38,
   "metadata": {
    "slideshow": {
     "slide_type": "fragment"
    }
   },
   "outputs": [
    {
     "name": "stdout",
     "output_type": "stream",
     "text": [
      "6.7007672634%\n"
     ]
    }
   ],
   "source": [
    "print(format_percentage(Mid_sixties_to_seventies['Age'].count() / dr['Age'].count() *100))"
   ]
  },
  {
   "cell_type": "markdown",
   "metadata": {
    "slideshow": {
     "slide_type": "subslide"
    }
   },
   "source": [
    "### 40's to 50's account for largest percentage of people who make a PTP\n",
    "### second largest is the 30's to 40's age group\n",
    "### third is 50's to 60's age group"
   ]
  },
  {
   "cell_type": "markdown",
   "metadata": {
    "slideshow": {
     "slide_type": "subslide"
    }
   },
   "source": [
    "### The above show the percentage of each age incriment"
   ]
  },
  {
   "cell_type": "code",
   "execution_count": 39,
   "metadata": {
    "slideshow": {
     "slide_type": "subslide"
    }
   },
   "outputs": [
    {
     "name": "stdout",
     "output_type": "stream",
     "text": [
      "5.4219948849%\n",
      "3.7406483791%\n",
      "4.3189368771%\n",
      "2.6262626263%\n"
     ]
    }
   ],
   "source": [
    "# Percenatge of women in 20's to 30's range in the population sample\n",
    "print(format_percentage(Mid_twenties_to_thirties[Mid_twenties_to_thirties.Gender == 'FEMALE']['Age'].count() / \n",
    "                        dr['Age'].count() *100))\n",
    "\n",
    "# Percentage of women in 20's to 30's who PTP after \"Phone Call\"\n",
    "print(format_percentage(Mid_20s_to_30s[Mid_20s_to_30s.Gender == 'FEMALE']['Age'].count() / \n",
    "                        RTA_10['Age'].count() *100))\n",
    "\n",
    "# Percentage of women in 20's to 30's who PTP after \"SMS\"\n",
    "print(format_percentage(t20s_to_30s[t20s_to_30s.Gender == 'FEMALE']['Age'].count() / \n",
    "                        RTA_6['Age'].count() *100))\n",
    "\n",
    "\n",
    "# Percentage of women in 20's to 30's who PTP after \"Letter Run\"\n",
    "print(format_percentage(p20s_to_30s[p20s_to_30s.Gender == 'FEMALE']['Age'].count() / \n",
    "                        RTA_20['Age'].count() *100))"
   ]
  },
  {
   "cell_type": "markdown",
   "metadata": {
    "slideshow": {
     "slide_type": "subslide"
    }
   },
   "source": [
    "- 1) Percenatge of women in 20's to 30's range in the population sample\n",
    "- 2) Percentage of women in 20's to 30's who PTP after \"Phone Call\"\n",
    "- 3) Percentage of women in 20's to 30's who PTP after \"SMS\"\n",
    "- 4) Percentage of women in 20's to 30's who PTP after \"Letter Run\"\n",
    "- 5) From the above I gather that women in their 20s to 30's are most likely to make a PTP if they are \"SMS'd\""
   ]
  },
  {
   "cell_type": "code",
   "execution_count": 42,
   "metadata": {
    "slideshow": {
     "slide_type": "subslide"
    }
   },
   "outputs": [
    {
     "name": "stdout",
     "output_type": "stream",
     "text": [
      "6.0869565217%\n",
      "5.1122194514%\n",
      "5.3156146179%\n",
      "3.2323232323%\n"
     ]
    }
   ],
   "source": [
    "# Percenatge of men in 20's to 30's range in the population sample\n",
    "print(format_percentage(Mid_twenties_to_thirties[Mid_twenties_to_thirties.Gender == 'MALE']['Age'].count() / \n",
    "                        dr['Age'].count() *100))\n",
    "\n",
    "# Percentage of men in 20's to 30's who PTP after \"Phone Call\"\n",
    "print(format_percentage(Mid_20s_to_30s[Mid_20s_to_30s.Gender == 'MALE']['Age'].count() / \n",
    "                        RTA_10['Age'].count() *100))\n",
    "\n",
    "# Percentage of men in 20's to 30's who PTP after \"SMS\"\n",
    "print(format_percentage(t20s_to_30s[t20s_to_30s.Gender == 'MALE']['Age'].count() / \n",
    "                        RTA_6['Age'].count() *100))\n",
    "\n",
    "\n",
    "\n",
    "# Percentage of men in 20's to 30's who PTP after \"Letter Run\"\n",
    "print(format_percentage(p20s_to_30s[p20s_to_30s.Gender == 'MALE']['Age'].count() / \n",
    "                        RTA_20['Age'].count() *100))"
   ]
  },
  {
   "cell_type": "markdown",
   "metadata": {
    "slideshow": {
     "slide_type": "subslide"
    }
   },
   "source": [
    "- 1) Percenatge of men in 20's to 30's range in the population sample\n",
    "- 2) Percentage of men in 20's to 30's who PTP after \"Phone Call\"\n",
    "- 3) Percentage of men in 20's to 30's who PTP after \"SMS\"\n",
    "- 4) Percentage of men in 20's to 30's who PTP after \"Letter Run\"\n",
    "- 5) From the above I gather that men in their 20s to 30's are most likely to make a PTP if they are \"SMS'd\""
   ]
  },
  {
   "cell_type": "code",
   "execution_count": 43,
   "metadata": {
    "slideshow": {
     "slide_type": "subslide"
    }
   },
   "outputs": [
    {
     "name": "stdout",
     "output_type": "stream",
     "text": [
      "13.4526854220%\n",
      "12.2194513716%\n",
      "12.6245847176%\n",
      "7.6767676768%\n"
     ]
    }
   ],
   "source": [
    "# Percenatge of women in 30's to 40's range in the population sample\n",
    "print(format_percentage(Mid_thirties_to_fourties[Mid_thirties_to_fourties.Gender == 'FEMALE']['Age'].count() / \n",
    "                        dr['Age'].count() *100))\n",
    "\n",
    "\n",
    "# Percentage of women in 30's to 40's who PTP after \"Phone Call\"\n",
    "print(format_percentage(Mid_30s_to_40s[Mid_30s_to_40s.Gender == 'FEMALE']['Age'].count() / \n",
    "                        RTA_10['Age'].count() *100))\n",
    "\n",
    "# Percentage of women in 30's to 40's who PTP after \"SMS\"\n",
    "print(format_percentage(t30s_to_40s[t30s_to_40s.Gender == 'FEMALE']['Age'].count() / \n",
    "                        RTA_6['Age'].count() *100))\n",
    "\n",
    "\n",
    "# Percentage of women in 30's to 40's who PTP after \"Letter Run\"\n",
    "print(format_percentage(p30s_to_40s[p30s_to_40s.Gender == 'FEMALE']['Age'].count() / \n",
    "                        RTA_20['Age'].count() *100))"
   ]
  },
  {
   "cell_type": "markdown",
   "metadata": {
    "slideshow": {
     "slide_type": "subslide"
    }
   },
   "source": [
    "- 1) Percenatge of women in 30's to 40's range in the population sample\n",
    "- 2) Percentage of women in 30's to 40's who PTP after \"Phone Call\"\n",
    "- 3) Percentage of women in 30's to 40's who PTP after \"SMS\"\n",
    "- 4) Percentage of women in 30's to 40's who PTP after \"Letter Run\"\n",
    "- 5) From the above I gather that women in their 20s to 30's are most likely to make a PTP if they are \"SMS'd\" and very closely followed by a Phone Call"
   ]
  },
  {
   "cell_type": "code",
   "execution_count": 44,
   "metadata": {
    "slideshow": {
     "slide_type": "subslide"
    }
   },
   "outputs": [
    {
     "name": "stdout",
     "output_type": "stream",
     "text": [
      "15.8056265985%\n",
      "14.8379052369%\n",
      "17.2757475083%\n",
      "10.5050505051%\n"
     ]
    }
   ],
   "source": [
    "# Percenatge of men in 30's to 40's range in the population sample\n",
    "print(format_percentage(Mid_thirties_to_fourties[Mid_thirties_to_fourties.Gender == 'MALE']['Age'].count() / \n",
    "                        dr['Age'].count() *100))\n",
    "\n",
    "# Percentage of men in 30's to 40's who PTP after \"Phone Call\"\n",
    "print(format_percentage(Mid_30s_to_40s[Mid_30s_to_40s.Gender == 'MALE']['Age'].count() / \n",
    "                        RTA_10['Age'].count() *100))\n",
    "\n",
    "# Percentage of men in 30's to 40's who PTP after \"SMS\"\n",
    "print(format_percentage(t30s_to_40s[t30s_to_40s.Gender == 'MALE']['Age'].count() / \n",
    "                        RTA_6['Age'].count() *100))\n",
    "\n",
    "\n",
    "# Percentage of men in 30's to 40's who PTP after \"Letter Run\"\n",
    "print(format_percentage(p30s_to_40s[p30s_to_40s.Gender == 'MALE']['Age'].count() / \n",
    "                        RTA_20['Age'].count() *100))"
   ]
  },
  {
   "cell_type": "markdown",
   "metadata": {
    "slideshow": {
     "slide_type": "subslide"
    }
   },
   "source": [
    "- 1) Percenatge of men in 30's to 40's range in the population sample\n",
    "- 2) Percentage of men in 30's to 40's who PTP after \"Phone Call\"\n",
    "- 3) Percentage of men in 30's to 40's who PTP after \"SMS\"\n",
    "- 4) Percentage of men in 30's to 40's who PTP after \"Letter Run\"\n",
    "- 5) From the above I gather that men in their 30s to 40's are most likely to make a PTP if they are \"SMS'd\""
   ]
  },
  {
   "cell_type": "code",
   "execution_count": 45,
   "metadata": {
    "slideshow": {
     "slide_type": "subslide"
    }
   },
   "outputs": [
    {
     "name": "stdout",
     "output_type": "stream",
     "text": [
      "15.4475703325%\n",
      "17.8304239401%\n",
      "12.2923588040%\n",
      "7.4747474747%\n"
     ]
    }
   ],
   "source": [
    "# Percenatge of women in 40's to 50's range in the population sample\n",
    "print(format_percentage(Mid_fourties_to_fifties[Mid_fourties_to_fifties.Gender == 'FEMALE']['Age'].count() / \n",
    "                        dr['Age'].count() *100))\n",
    "\n",
    "# Percentage of women in 40's to 50's who PTP after \"Phone Call\"\n",
    "print(format_percentage(Mid_40s_to_50s[Mid_40s_to_50s.Gender == 'FEMALE']['Age'].count() / \n",
    "                        RTA_10['Age'].count() *100))\n",
    "\n",
    "# Percentage of women in 40's to 50's who PTP after \"SMS\"\n",
    "print(format_percentage(t40s_to_50s[t40s_to_50s.Gender == 'FEMALE']['Age'].count() / \n",
    "                        RTA_6['Age'].count() *100))\n",
    "\n",
    "\n",
    "# Percentage of women in 40's to 50's who PTP after \"Letter Run\"\n",
    "print(format_percentage(p40s_to_50s[p40s_to_50s.Gender == 'FEMALE']['Age'].count() / \n",
    "                        RTA_20['Age'].count() *100))\n"
   ]
  },
  {
   "cell_type": "markdown",
   "metadata": {
    "slideshow": {
     "slide_type": "subslide"
    }
   },
   "source": [
    "- 1) Percenatge of women in 40's to 50's range in the population sample\n",
    "- 2) Percentage of women in 40's to 50's who PTP after \"Phone Call\"\n",
    "- 3) Percentage of women in 40's to 50's who PTP after \"SMS\"\n",
    "- 4) Percentage of women in 40's to 50's who PTP after \"Letter Run\"\n",
    "- 5) From the above I gather that women in their 40s to 50's are most likely to make a PTP if they are \"Called\""
   ]
  },
  {
   "cell_type": "code",
   "execution_count": 46,
   "metadata": {
    "slideshow": {
     "slide_type": "subslide"
    }
   },
   "outputs": [
    {
     "name": "stdout",
     "output_type": "stream",
     "text": [
      "17.8516624041%\n",
      "16.8329177057%\n",
      "22.9235880399%\n",
      "13.9393939394%\n"
     ]
    }
   ],
   "source": [
    "# Percenatge of men in 40's to 50's range in the population sample\n",
    "print(format_percentage(Mid_fourties_to_fifties[Mid_fourties_to_fifties.Gender == 'MALE']['Age'].count() / \n",
    "                        dr['Age'].count() *100))\n",
    "\n",
    "\n",
    "# Percentage of men in 40's to 50's who PTP after \"Phone Call\"\n",
    "print(format_percentage(Mid_40s_to_50s[Mid_40s_to_50s.Gender == 'MALE']['Age'].count() / \n",
    "                        RTA_10['Age'].count() *100))\n",
    "\n",
    "# Percentage of men in 40's to 50's who PTP after \"SMS\"\n",
    "print(format_percentage(t40s_to_50s[t40s_to_50s.Gender == 'MALE']['Age'].count() / \n",
    "                        RTA_6['Age'].count() *100))\n",
    "\n",
    "# Percentage of men in 40's to 50's who PTP after \"Letter Run\"\n",
    "print(format_percentage(p40s_to_50s[p40s_to_50s.Gender == 'MALE']['Age'].count() / \n",
    "                        RTA_20['Age'].count() *100))"
   ]
  },
  {
   "cell_type": "markdown",
   "metadata": {
    "slideshow": {
     "slide_type": "subslide"
    }
   },
   "source": [
    "- 1) Percenatge of men in 40's to 50's range in the population sample\n",
    "- 2) Percentage of men in 40's to 50's who PTP after \"Phone Call\"\n",
    "- 3) Percentage of men in 40's to 50's who PTP after \"SMS\"\n",
    "- 4) Percentage of men in 40's to 50's who PTP after \"Letter Run\"\n",
    "- 5) From the above I gather that men in their 40s to 50's are most likely to make a PTP if they are \"SMS'd\""
   ]
  },
  {
   "cell_type": "code",
   "execution_count": 47,
   "metadata": {
    "slideshow": {
     "slide_type": "subslide"
    }
   },
   "outputs": [
    {
     "name": "stdout",
     "output_type": "stream",
     "text": [
      "7.6726342711%\n",
      "8.7281795511%\n",
      "7.6411960133%\n",
      "4.6464646465%\n"
     ]
    }
   ],
   "source": [
    "# Percenatge of women in 50's to 60's range in the population sample\n",
    "print(format_percentage(Mid_fifties_to_sixties[Mid_fifties_to_sixties.Gender == 'FEMALE']['Age'].count() / \n",
    "                        dr['Age'].count() *100))\n",
    "\n",
    "\n",
    "# Percentage of women in 50's to 60's who PTP after \"Phone Call\"\n",
    "print(format_percentage(Mid_50s_to_60s[Mid_50s_to_60s.Gender == 'FEMALE']['Age'].count() / \n",
    "                        RTA_10['Age'].count() *100))\n",
    "\n",
    "# Percentage of women in 50's to 60's who PTP after \"SMS\"\n",
    "print(format_percentage(t50s_to_60s[t50s_to_60s.Gender == 'FEMALE']['Age'].count() / \n",
    "                        RTA_6['Age'].count() *100))\n",
    "\n",
    "\n",
    "# Percentage of women in 50's to 60's who PTP after \"Letter Run\"\n",
    "print(format_percentage(p50s_to_60s[p50s_to_60s.Gender == 'FEMALE']['Age'].count() / \n",
    "                        RTA_20['Age'].count() *100))\n"
   ]
  },
  {
   "cell_type": "markdown",
   "metadata": {
    "slideshow": {
     "slide_type": "subslide"
    }
   },
   "source": [
    "- 1) Percenatge of women in 50's to 60's range in the population sample\n",
    "- 2) Percentage of women in 50's to 60's who PTP after \"Phone Call\"\n",
    "- 3) Percentage of women in 50's to 60's who PTP after \"SMS\"\n",
    "- 4) Percentage of women in 50's to 60's who PTP after \"Letter Run\"\n",
    "- 5) From the above I gather that women in their 50s to 60's are most likely to make a PTP if they are \"Called\""
   ]
  },
  {
   "cell_type": "code",
   "execution_count": 48,
   "metadata": {
    "slideshow": {
     "slide_type": "subslide"
    }
   },
   "outputs": [
    {
     "name": "stdout",
     "output_type": "stream",
     "text": [
      "11.5089514066%\n",
      "12.5935162095%\n",
      "10.9634551495%\n",
      "6.6666666667%\n"
     ]
    }
   ],
   "source": [
    "# Percenatge of men in 50's to 60's range in the population sample\n",
    "print(format_percentage(Mid_fifties_to_sixties[Mid_fifties_to_sixties.Gender == 'MALE']['Age'].count() / \n",
    "                        dr['Age'].count() *100))\n",
    "\n",
    "\n",
    "# Percentage of men in 50's to 60's who PTP after \"Phone Call\"\n",
    "print(format_percentage(Mid_50s_to_60s[Mid_50s_to_60s.Gender == 'MALE']['Age'].count() / \n",
    "                        RTA_10['Age'].count() *100))\n",
    "\n",
    "# Percentage of men in 50's to 60's who PTP after \"SMS\"\n",
    "print(format_percentage(t50s_to_60s[t50s_to_60s.Gender == 'MALE']['Age'].count() / \n",
    "                        RTA_6['Age'].count() *100))\n",
    "\n",
    "\n",
    "# Percentage of men in 50's to 60's who PTP after \"Letter Run\"\n",
    "print(format_percentage(p50s_to_60s[p50s_to_60s.Gender == 'MALE']['Age'].count() / \n",
    "                        RTA_20['Age'].count() *100))"
   ]
  },
  {
   "cell_type": "markdown",
   "metadata": {
    "slideshow": {
     "slide_type": "subslide"
    }
   },
   "source": [
    "- 1) Percenatge of men in 50's to 60's range in the population sample\n",
    "- 2) Percentage of men in 50's to 60's who PTP after \"Phone Call\"\n",
    "- 3) Percentage of men in 50's to 60's who PTP after \"SMS\"\n",
    "- 4) Percentage of men in 50's to 60's who PTP after \"Letter Run\"\n",
    "- 5) From the above I gather that women in their 20s to 30's are most likely to make a PTP if they are \"Called\""
   ]
  },
  {
   "cell_type": "code",
   "execution_count": 49,
   "metadata": {
    "slideshow": {
     "slide_type": "subslide"
    }
   },
   "outputs": [
    {
     "name": "stdout",
     "output_type": "stream",
     "text": [
      "2.2506393862%\n",
      "1.7456359102%\n",
      "2.3255813953%\n",
      "1.4141414141%\n"
     ]
    }
   ],
   "source": [
    "# Percenatge of women in 60's to 70's range in the population sample\n",
    "print(format_percentage(Mid_sixties_to_seventies[Mid_sixties_to_seventies.Gender == 'FEMALE']['Age'].count() / \n",
    "                        dr['Age'].count() *100))\n",
    "\n",
    "\n",
    "# Percentage of women in 60's to 70's who PTP after \"Phone Call\"\n",
    "print(format_percentage(Mid_60s_to_70s[Mid_60s_to_70s.Gender == 'FEMALE']['Age'].count() / \n",
    "                        RTA_10['Age'].count() *100))\n",
    "\n",
    "# Percentage of women in 60's to 70's who PTP after \"SMS\"\n",
    "print(format_percentage(t60s_to_70s[t60s_to_70s.Gender == 'FEMALE']['Age'].count() / \n",
    "                        RTA_6['Age'].count() *100))\n",
    "\n",
    "\n",
    "# Percentage of women in 60's to 70's who PTP after \"Letter Run\"\n",
    "print(format_percentage(p60s_to_70s[p60s_to_70s.Gender == 'FEMALE']['Age'].count() / \n",
    "                        RTA_20['Age'].count() *100))"
   ]
  },
  {
   "cell_type": "markdown",
   "metadata": {
    "slideshow": {
     "slide_type": "subslide"
    }
   },
   "source": [
    "- 1) Percenatge of women in 60's to 70's range in the population sample\n",
    "- 2) Percentage of women in 60's to 70's who PTP after \"Phone Call\"\n",
    "- 3) Percentage of women in 60's to 70's who PTP after \"SMS\"\n",
    "- 4) Percentage of women in 60's to 70's who PTP after \"Letter Run\"\n",
    "- 5) From the above I gather that women in their 60s to 70's are most likely to make a PTP if they are \"SMS'd\""
   ]
  },
  {
   "cell_type": "code",
   "execution_count": 50,
   "metadata": {
    "slideshow": {
     "slide_type": "subslide"
    }
   },
   "outputs": [
    {
     "name": "stdout",
     "output_type": "stream",
     "text": [
      "4.4501278772%\n",
      "1.7456359102%\n",
      "4.3189368771%\n",
      "2.6262626263%\n"
     ]
    }
   ],
   "source": [
    "# Percenatge of men in 60's to 70's range in the population sample\n",
    "print(format_percentage(Mid_sixties_to_seventies[Mid_sixties_to_seventies.Gender == 'MALE']['Age'].count() / \n",
    "                        dr['Age'].count() *100))\n",
    "\n",
    "\n",
    "# Percentage of men in 60's to 70's who PTP after \"Phone Call\"\n",
    "print(format_percentage(Mid_60s_to_70s[Mid_60s_to_70s.Gender == 'FEMALE']['Age'].count() / \n",
    "                        RTA_10['Age'].count() *100))\n",
    "\n",
    "\n",
    "# Percentage of men in 60's to 70's who PTP after \"SMS\"\n",
    "print(format_percentage(t60s_to_70s[t60s_to_70s.Gender == 'MALE']['Age'].count() / \n",
    "                        RTA_6['Age'].count() *100))\n",
    "\n",
    "# Percentage of men in 60's to 70's who PTP after \"Letter Run\"\n",
    "print(format_percentage(p60s_to_70s[p60s_to_70s.Gender == 'MALE']['Age'].count() / \n",
    "                        RTA_20['Age'].count() *100))"
   ]
  },
  {
   "cell_type": "markdown",
   "metadata": {
    "slideshow": {
     "slide_type": "subslide"
    }
   },
   "source": [
    "- 1) Percenatge of men in 60's to 70's range in the population sample\n",
    "- 2) Percentage of men in 60's to 70's who PTP after \"Phone Call\"\n",
    "- 3) Percentage of men in 60's to 70's who PTP after \"SMS\"\n",
    "- 4) Percentage of men in 60's to 70's who PTP after \"Letter Run\"\n",
    "- 5) From the above I gather that men in their 60s to 70's are most likely to make a PTP if they are \"SMS'd\""
   ]
  },
  {
   "cell_type": "code",
   "execution_count": null,
   "metadata": {
    "slideshow": {
     "slide_type": "skip"
    }
   },
   "outputs": [],
   "source": []
  }
 ],
 "metadata": {
  "celltoolbar": "Slideshow",
  "kernelspec": {
   "display_name": "Python 3",
   "language": "python",
   "name": "python3"
  },
  "language_info": {
   "codemirror_mode": {
    "name": "ipython",
    "version": 3
   },
   "file_extension": ".py",
   "mimetype": "text/x-python",
   "name": "python",
   "nbconvert_exporter": "python",
   "pygments_lexer": "ipython3",
   "version": "3.6.4"
  }
 },
 "nbformat": 4,
 "nbformat_minor": 2
}
